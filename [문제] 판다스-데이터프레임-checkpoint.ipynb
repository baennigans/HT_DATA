{
 "cells": [
  {
   "cell_type": "markdown",
   "id": "32ae7402",
   "metadata": {},
   "source": [
    "## pandas 임포트 \n",
    "### import pandas as pd\n"
   ]
  },
  {
   "cell_type": "code",
   "execution_count": null,
   "id": "f00ac239",
   "metadata": {},
   "outputs": [],
   "source": [
    "import pandas as pd"
   ]
  },
  {
   "cell_type": "code",
   "execution_count": null,
   "id": "855fb7f4",
   "metadata": {},
   "outputs": [],
   "source": [
    "df01 = pd.DataFrame()\n",
    "print(df01)"
   ]
  },
  {
   "cell_type": "markdown",
   "id": "56b6bf22",
   "metadata": {},
   "source": [
    "## 데이터프레임 생성방법  (pd.DataFrame())\n",
    "### 1. 딕셔너리를 이용\n",
    "### 2. 리스트를 이용"
   ]
  },
  {
   "cell_type": "code",
   "execution_count": null,
   "id": "e0cbd592",
   "metadata": {},
   "outputs": [],
   "source": [
    "# 딕셔너리 사용\n",
    "data_dic = {\n",
    "    '1반': [89.2, 92.8],\n",
    "     '2반': [92.5, 89.9],\n",
    "    '3반': [90.8, 95.2]\n",
    "}"
   ]
  },
  {
   "cell_type": "code",
   "execution_count": null,
   "id": "5dd38f15",
   "metadata": {},
   "outputs": [],
   "source": [
    "data_dic"
   ]
  },
  {
   "cell_type": "code",
   "execution_count": null,
   "id": "059eadb0",
   "metadata": {},
   "outputs": [],
   "source": [
    "df01 = pd.DataFrame(data_dic)"
   ]
  },
  {
   "cell_type": "code",
   "execution_count": null,
   "id": "17321d05",
   "metadata": {},
   "outputs": [],
   "source": [
    "df01"
   ]
  },
  {
   "cell_type": "code",
   "execution_count": null,
   "id": "df924bff",
   "metadata": {},
   "outputs": [],
   "source": [
    "# 리스트를 사용\n",
    "data_list = [[89.2, 92.5, 90.8], [92.8, 89.9, 95.2]]\n",
    "df02 = pd.DataFrame(data_list)"
   ]
  },
  {
   "cell_type": "code",
   "execution_count": null,
   "id": "12924653",
   "metadata": {},
   "outputs": [],
   "source": [
    "df02"
   ]
  },
  {
   "cell_type": "code",
   "execution_count": null,
   "id": "df43d4d2",
   "metadata": {},
   "outputs": [],
   "source": [
    "# columns 옵션으로 1반, 2반 생성\n",
    "data_list = [[89.2, 92.5, 90.8], [92.8, 89.9, 95.2]]\n"
   ]
  },
  {
   "cell_type": "code",
   "execution_count": null,
   "id": "77ec9a94",
   "metadata": {},
   "outputs": [],
   "source": [
    "df02 = pd.DataFrame(data_list)"
   ]
  },
  {
   "cell_type": "code",
   "execution_count": null,
   "id": "2d953f60",
   "metadata": {},
   "outputs": [],
   "source": [
    "df02"
   ]
  },
  {
   "cell_type": "markdown",
   "id": "d7a24189",
   "metadata": {},
   "source": [
    "### 행 인덱스 변경 \n",
    "   * DataFrame객체.index = <span style=\"color:red\">새로운 행 인덱스 배열</span>\n",
    "   * DataFrame객체.rename(<span style=\"color:red\">index={기존인덱스:새인덱스, ...}</span>)\n",
    "   \n",
    "### 열 이름 변경 \n",
    "   * DataFrame객체.columns = <span style=\"color:red\">새로운 열이름  배열</span>\n",
    "   * DataFrame객체.rename(<span style=\"color:red\">columns={기존이름:새이름, ...}</span>)\n",
    "   \n",
    "### 행 선택\n",
    "   1. loc과 iloc 인덱스를 사용\n",
    "   1. loc => 인덱스 이름을 기준, iloc => 정수형 위치 인덱스 기준\n",
    "   \n",
    "### 열 선택\n",
    "   1. 단일 열 선택\n",
    "     > DataFrame객체[\"열이름\"]  \n",
    "     > DataFrame객체.열이름\n",
    "   1. 여러개 열 선택\n",
    "     > DataFrame객체[[열1, 열2, ...]\n",
    "     \n",
    "### 행/열 삭제\n",
    "   1. 행삭제\n",
    "       > DataFrame객체.drop(행인덱스 또는 배열, axis=0)\n",
    "   1. 열삭제\n",
    "       > DataFram객체.drop(열이름 또는 배열, axis=1)\n",
    "       \n",
    "   * drop() 메소드는 기존객체를 변경하지 않고 새로운 객체로 반환함.\n",
    "   * 원본 객체를 변경하는 경우 <b>inplace=True</b> 옵션 추가\n",
    "   \n",
    "###   행/열 추가\n",
    "   1. 열추가\n",
    "      > DataFrame객체['추가열이름'] = 데이터값\n",
    "      \n",
    "      * 모든 행에 같은 값이 삽입\n",
    "   1. 행추가\n",
    "      > DaraFrame객체.loc['추가행이름'] = 데이터값 또는 배열\n",
    "      \n"
   ]
  },
  {
   "cell_type": "code",
   "execution_count": null,
   "id": "cccaaa56",
   "metadata": {},
   "outputs": [],
   "source": [
    "# 컬럼명을 변경해봅시다\n",
    "df02.columns = ['1반','2반', '3반']"
   ]
  },
  {
   "cell_type": "code",
   "execution_count": null,
   "id": "406049d5",
   "metadata": {},
   "outputs": [],
   "source": [
    "df02"
   ]
  },
  {
   "cell_type": "code",
   "execution_count": null,
   "id": "cff77d95",
   "metadata": {},
   "outputs": [],
   "source": [
    "df03 = pd.DataFrame(data_list, columns = ['1반', '2반', '3반'])"
   ]
  },
  {
   "cell_type": "code",
   "execution_count": null,
   "id": "85d8053c",
   "metadata": {},
   "outputs": [],
   "source": [
    "df03"
   ]
  },
  {
   "cell_type": "code",
   "execution_count": null,
   "id": "76675fe7",
   "metadata": {},
   "outputs": [],
   "source": [
    "# 1반의 성적보기\n",
    "df03['1반']"
   ]
  },
  {
   "cell_type": "code",
   "execution_count": null,
   "id": "86d7d5b9",
   "metadata": {},
   "outputs": [],
   "source": [
    "# 0 인덱스 보기\n",
    "df03.loc[0]"
   ]
  },
  {
   "cell_type": "code",
   "execution_count": null,
   "id": "d80e16c4",
   "metadata": {},
   "outputs": [],
   "source": [
    "# 인덱스를 중간고사, 기말고사로 변경\n",
    "df03.index = ['중간고사', '기말고사']"
   ]
  },
  {
   "cell_type": "code",
   "execution_count": null,
   "id": "759551d9",
   "metadata": {},
   "outputs": [],
   "source": [
    "df03"
   ]
  },
  {
   "cell_type": "code",
   "execution_count": null,
   "id": "460dd5c3",
   "metadata": {},
   "outputs": [],
   "source": [
    "df03.iloc[0]  "
   ]
  },
  {
   "cell_type": "code",
   "execution_count": null,
   "id": "b161d2bd",
   "metadata": {},
   "outputs": [],
   "source": [
    "df03.loc['중간고사']"
   ]
  },
  {
   "cell_type": "code",
   "execution_count": null,
   "id": "30a45637",
   "metadata": {},
   "outputs": [],
   "source": [
    "df03.loc[['중간고사']]"
   ]
  },
  {
   "cell_type": "code",
   "execution_count": null,
   "id": "bd2231ad",
   "metadata": {},
   "outputs": [],
   "source": [
    "df03.iloc[:, 1:]"
   ]
  },
  {
   "cell_type": "code",
   "execution_count": null,
   "id": "4964266a",
   "metadata": {},
   "outputs": [],
   "source": [
    "# 차이점을 파악해보자\n",
    "df03.iloc[1, [0,2]]"
   ]
  },
  {
   "cell_type": "code",
   "execution_count": null,
   "id": "b7f4f68b",
   "metadata": {},
   "outputs": [],
   "source": [
    "# 중간고사 행 삭제\n",
    "df03.drop('중간고사')"
   ]
  },
  {
   "cell_type": "code",
   "execution_count": null,
   "id": "1e2411c5",
   "metadata": {},
   "outputs": [],
   "source": [
    "df03.drop(['1반', '3반'], axis=1)"
   ]
  },
  {
   "cell_type": "code",
   "execution_count": null,
   "id": "42bceaec",
   "metadata": {},
   "outputs": [],
   "source": [
    "df03.iloc[[1], [0,2]]"
   ]
  },
  {
   "cell_type": "markdown",
   "id": "85eccf3b",
   "metadata": {},
   "source": [
    "## [퀴즈01] 해결해봅시다!!!\n",
    "\n",
    "**1. 다음의 값을 가지는 데이터 프레임을 작성하세요**\n",
    "\n",
    "|            |  0  |  1  |  2  |  3  |  4  | \n",
    "| -----------|-----|-----|-----|-----|-----|\n",
    "|     0      |  1  |  90 | 75  | 23  | 89  |\n",
    "|     1      |  2  |  80 | 95  | 78  | 82  |\n",
    "|     2      |  3  |  45 | 95  | 60  | 70  |\n",
    "|     3      |  4  |  69 | 88  | 35  | 40  |\n",
    "|     4      |  5  |  86 | 68  | 95  | 98  |\n",
    "\n"
   ]
  },
  {
   "cell_type": "code",
   "execution_count": null,
   "id": "c3455ab8",
   "metadata": {},
   "outputs": [],
   "source": []
  },
  {
   "cell_type": "markdown",
   "id": "a42a3906",
   "metadata": {},
   "source": [
    "**2. 데이터프레임을 아래처럼 수정하세요**\n",
    "\n",
    "|            |  A  |  B  |  C  |  D  |  E  | \n",
    "| -----------|-----|-----|-----|-----|-----|\n",
    "|     0      |  1  |  90 | 75  | 23  | 89  |\n",
    "|     1      |  2  |  80 | 95  | 78  | 82  |\n",
    "|     2      |  3  |  45 | 95  | 60  | 70  |\n",
    "|     3      |  4  |  69 | 88  | 35  | 40  |\n",
    "|     4      |  5  |  86 | 68  | 95  | 98  |\n",
    "\n",
    "   <span style=\"color: white\">[힌트] 컬럼명을 A, B, C, D, E으로 변경하세요</span>"
   ]
  },
  {
   "cell_type": "code",
   "execution_count": null,
   "id": "7e94b274",
   "metadata": {},
   "outputs": [],
   "source": []
  },
  {
   "cell_type": "markdown",
   "id": "1fb9ea8f",
   "metadata": {},
   "source": [
    "**3. 데이터프레임을 아래처럼 수정하세요**\n",
    "\n",
    "|            |  A  |  B  |  C  |  D  |  E  | \n",
    "| -----------|-----|-----|-----|-----|-----|\n",
    "|     0      |  5  |  90 | 75  | 23  | 89  |\n",
    "|     1      | 10  |  80 | 95  | 78  | 82  |\n",
    "|     2      | 15  |  45 | 95  | 60  | 70  |\n",
    "|     3      | 20  |  69 | 88  | 35  | 40  |\n",
    "|     4      |  25  |  86 | 68  | 95  | 98  |\n",
    "\n",
    "   <span style=\"color: white\">[힌트] A컬럼의 데이터가 5배씩 증가되었네요</span>"
   ]
  },
  {
   "cell_type": "code",
   "execution_count": null,
   "id": "91419e20",
   "metadata": {},
   "outputs": [],
   "source": []
  },
  {
   "cell_type": "markdown",
   "id": "79fbe5a3",
   "metadata": {},
   "source": [
    "**4. 빨간색의 부분처럼 변경하세요**\n",
    "\n",
    "|            |  A  |  B  |  C  |  D  |  E  | \n",
    "| -----------|-----|-----|-----|-----|-----|\n",
    "|     0      |  5  |  90 | 75  | 23  | 89  |\n",
    "|     1      | 10  |  80 | 95  | 78  | 82  |\n",
    "|     2      | 15  |  45 | 95  | 60  | 70  |\n",
    "|     3      | 20  |  69 | 88  | 35  | 40  |\n",
    "|     4      |  25  |  86 | 68  | <span style=\"color:red\">100</span>  | 98  |\n",
    "\n",
    "   <span style=\"color: white\">[힌트] 기본인덱스를 사용하세요</span>"
   ]
  },
  {
   "cell_type": "code",
   "execution_count": null,
   "id": "a3205280",
   "metadata": {},
   "outputs": [],
   "source": []
  },
  {
   "cell_type": "markdown",
   "id": "be28aa1f",
   "metadata": {},
   "source": [
    "**5. 데이터프레임을 아래처럼 수정하세요**\n",
    "B, C, D, E 컬럼의 데이터에서 80점 이상은 1, 80점 미만은 0으로 표시해주세요\n",
    "\n",
    "|            |  A  |  B  |  C  |  D  |  E  | \n",
    "| -----------|-----|-----|-----|-----|-----|\n",
    "|     0      |  5  |  1  | 0   |  0  |  1  |\n",
    "|     1      | 10  |  1  | 1   |  0  |  1  |\n",
    "|     2      | 15  |  0  | 1   |  0  |  0  |\n",
    "|     3      | 20  |  0  | 1   |  0  |  0  |\n",
    "|     4      | 25  |  1  | 0   |  1  |  1  |\n",
    "\n",
    "   <span style=\"color: white\">[힌트] 비교연산을 이용하여 수정할 수 있어요</span>"
   ]
  },
  {
   "cell_type": "code",
   "execution_count": null,
   "id": "248b0de5",
   "metadata": {},
   "outputs": [],
   "source": []
  }
 ],
 "metadata": {
  "kernelspec": {
   "display_name": "Python 3 (ipykernel)",
   "language": "python",
   "name": "python3"
  },
  "language_info": {
   "codemirror_mode": {
    "name": "ipython",
    "version": 3
   },
   "file_extension": ".py",
   "mimetype": "text/x-python",
   "name": "python",
   "nbconvert_exporter": "python",
   "pygments_lexer": "ipython3",
   "version": "3.11.5"
  }
 },
 "nbformat": 4,
 "nbformat_minor": 5
}
